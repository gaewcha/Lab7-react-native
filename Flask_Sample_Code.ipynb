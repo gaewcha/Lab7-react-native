{
  "nbformat": 4,
  "nbformat_minor": 0,
  "metadata": {
    "colab": {
      "provenance": [],
      "authorship_tag": "ABX9TyNuI4F4EHXRh37ZghQQYPbA",
      "include_colab_link": true
    },
    "kernelspec": {
      "name": "python3",
      "display_name": "Python 3"
    },
    "language_info": {
      "name": "python"
    }
  },
  "cells": [
    {
      "cell_type": "markdown",
      "metadata": {
        "id": "view-in-github",
        "colab_type": "text"
      },
      "source": [
        "<a href=\"https://colab.research.google.com/github/gaewcha/Lab7-react-native/blob/master/Flask_Sample_Code.ipynb\" target=\"_parent\"><img src=\"https://colab.research.google.com/assets/colab-badge.svg\" alt=\"Open In Colab\"/></a>"
      ]
    },
    {
      "cell_type": "code",
      "execution_count": 1,
      "metadata": {
        "colab": {
          "base_uri": "https://localhost:8080/",
          "height": 34
        },
        "id": "eahhC8wqP3Ds",
        "outputId": "2dbfe2f3-a602-4304-87a6-d932cb2f5a29"
      },
      "outputs": [
        {
          "output_type": "stream",
          "name": "stdout",
          "text": [
            "https://lw8e206x0x-496ff2e9c6d22116-5000-colab.googleusercontent.com/\n"
          ]
        }
      ],
      "source": [
        "from google.colab.output import eval_js\n",
        "\n",
        "print(eval_js(\"google.colab.kernel.proxyPort(5000)\"))       # สามารถเข้าถึง port 5000 ของ project colab เราได้ที่นี่"
      ]
    },
    {
      "cell_type": "code",
      "source": [
        "# !pip install flask\n",
        "\n",
        "from flask import Flask, render_template, request,jsonify\n",
        "app = Flask(__name__)\n",
        "\n",
        "@app.route('/predict_value', methods=['GET'])     ## วิธีทดสอบให้ใช้ url ที่ได้จาก code ด้านบน ตามด้วย /predict_value?token=ABC&timestamp=1234567\n",
        "def get_predict_value():\n",
        "    args = request.args\n",
        "    token = args.get('token')   # ดึงค่าจากตัวแปร token\n",
        "    if token != 'ABC':              # ตรวจสอบว่า token ถูกต้อง\n",
        "      return jsonify({\"err_message\":\"token is invalid\"})\n",
        "    timestamp = args.get('timestamp')  # ดึงค่าจากตัวแปร timestamp\n",
        "    return jsonify({\"predict_value\":timestamp})\n",
        "\n",
        "if __name__ ==  \"__main__\":       # ถ้าไม่กำหนดอะไร จะรันที่ port 5000 (default)\n",
        "    app.run()"
      ],
      "metadata": {
        "colab": {
          "base_uri": "https://localhost:8080/"
        },
        "id": "v54WBgHEQQYL",
        "outputId": "1086ffd1-942a-4f11-a416-cfc5f3cc914a"
      },
      "execution_count": 3,
      "outputs": [
        {
          "output_type": "stream",
          "name": "stdout",
          "text": [
            " * Serving Flask app \"__main__\" (lazy loading)\n",
            " * Environment: production\n",
            "\u001b[31m   WARNING: This is a development server. Do not use it in a production deployment.\u001b[0m\n",
            "\u001b[2m   Use a production WSGI server instead.\u001b[0m\n",
            " * Debug mode: off\n"
          ]
        },
        {
          "output_type": "stream",
          "name": "stderr",
          "text": [
            "INFO:werkzeug: * Running on http://127.0.0.1:5000/ (Press CTRL+C to quit)\n",
            "INFO:werkzeug:127.0.0.1 - - [08/Nov/2022 08:04:36] \"\u001b[33mGET / HTTP/1.1\u001b[0m\" 404 -\n",
            "INFO:werkzeug:127.0.0.1 - - [08/Nov/2022 08:04:45] \"\u001b[33mGET / HTTP/1.1\u001b[0m\" 404 -\n",
            "INFO:werkzeug:127.0.0.1 - - [08/Nov/2022 08:04:54] \"\u001b[37mGET /predict_value?timestamp=32143&token=ABC HTTP/1.1\u001b[0m\" 200 -\n",
            "INFO:werkzeug:127.0.0.1 - - [08/Nov/2022 08:04:55] \"\u001b[33mGET /favicon.ico HTTP/1.1\u001b[0m\" 404 -\n",
            "INFO:werkzeug:127.0.0.1 - - [08/Nov/2022 08:04:57] \"\u001b[37mGET /predict_value?timestamp=32143&token=uu HTTP/1.1\u001b[0m\" 200 -\n",
            "INFO:werkzeug:127.0.0.1 - - [08/Nov/2022 08:04:57] \"\u001b[33mGET /favicon.ico HTTP/1.1\u001b[0m\" 404 -\n"
          ]
        }
      ]
    }
  ]
}